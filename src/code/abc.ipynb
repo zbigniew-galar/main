{
 "cells": [
  {
   "cell_type": "code",
   "execution_count": 2,
   "id": "04d3fc9d",
   "metadata": {},
   "outputs": [
    {
     "name": "stdout",
     "output_type": "stream",
     "text": [
      "hello world\n"
     ]
    }
   ],
   "source": [
    "print(\"hello world\")"
   ]
  },
  {
   "cell_type": "markdown",
   "id": "48df62b3-3b4b-4f23-8614-c7310b1aefd5",
   "metadata": {},
   "source": [
    "#### Pandas external library loading"
   ]
  },
  {
   "cell_type": "code",
   "execution_count": 3,
   "id": "8c9bc735-3369-416f-8a94-3024274ab3fb",
   "metadata": {},
   "outputs": [],
   "source": [
    "import pandas as pd"
   ]
  },
  {
   "cell_type": "markdown",
   "id": "a156e474-6d74-49d3-8446-87b453bcf8e8",
   "metadata": {},
   "source": [
    "#### Reading data from Excel"
   ]
  },
  {
   "cell_type": "code",
   "execution_count": null,
   "id": "48ef3538-aaf0-4b75-a2b3-377f439f3830",
   "metadata": {},
   "outputs": [],
   "source": [
    "# Data loading options\n",
    "# df = pd.read_excel(file_path, sheet_name=sheet_name, skiprows=skip_rows)\n",
    "# df = pd.read_csv(file_path, sep=';', skiprows=skip_rows)"
   ]
  },
  {
   "cell_type": "code",
   "execution_count": 36,
   "id": "4f978784-a98b-45a2-a1c6-36d0dbac7a6e",
   "metadata": {},
   "outputs": [
    {
     "data": {
      "text/html": [
       "<div>\n",
       "<style scoped>\n",
       "    .dataframe tbody tr th:only-of-type {\n",
       "        vertical-align: middle;\n",
       "    }\n",
       "\n",
       "    .dataframe tbody tr th {\n",
       "        vertical-align: top;\n",
       "    }\n",
       "\n",
       "    .dataframe thead th {\n",
       "        text-align: right;\n",
       "    }\n",
       "</style>\n",
       "<table border=\"1\" class=\"dataframe\">\n",
       "  <thead>\n",
       "    <tr style=\"text-align: right;\">\n",
       "      <th></th>\n",
       "      <th>Period</th>\n",
       "      <th>Stock</th>\n",
       "      <th>SKU</th>\n",
       "    </tr>\n",
       "  </thead>\n",
       "  <tbody>\n",
       "    <tr>\n",
       "      <th>0</th>\n",
       "      <td>2023-01</td>\n",
       "      <td>7578.0</td>\n",
       "      <td>cc490ca8-11e3-4608-95d9-5e90c3deee5f</td>\n",
       "    </tr>\n",
       "    <tr>\n",
       "      <th>1</th>\n",
       "      <td>2023-01</td>\n",
       "      <td>3220.0</td>\n",
       "      <td>1b96daf4-989f-49b8-a1bd-a6f4bcdc45df</td>\n",
       "    </tr>\n",
       "    <tr>\n",
       "      <th>2</th>\n",
       "      <td>2023-01</td>\n",
       "      <td>5080.0</td>\n",
       "      <td>c09205b9-eb96-4ab5-ad76-fcb361730011</td>\n",
       "    </tr>\n",
       "  </tbody>\n",
       "</table>\n",
       "</div>"
      ],
      "text/plain": [
       "    Period   Stock                                   SKU\n",
       "0  2023-01  7578.0  cc490ca8-11e3-4608-95d9-5e90c3deee5f\n",
       "1  2023-01  3220.0  1b96daf4-989f-49b8-a1bd-a6f4bcdc45df\n",
       "2  2023-01  5080.0  c09205b9-eb96-4ab5-ad76-fcb361730011"
      ]
     },
     "execution_count": 36,
     "metadata": {},
     "output_type": "execute_result"
    }
   ],
   "source": [
    "file_path = \"C:\\\\Python repositories\\\\Education project\\\\src\\\\data\\\\input\\\\Stock.xlsx\"\n",
    "\n",
    "stock = pd.read_excel(file_path)\n",
    "stock[:3]"
   ]
  },
  {
   "cell_type": "code",
   "execution_count": 37,
   "id": "52bcd244-8687-454f-b4f7-540ec0917262",
   "metadata": {},
   "outputs": [
    {
     "data": {
      "text/plain": [
       "Period     object\n",
       "Stock     float64\n",
       "SKU        object\n",
       "dtype: object"
      ]
     },
     "execution_count": 37,
     "metadata": {},
     "output_type": "execute_result"
    }
   ],
   "source": [
    "# Check types of columns\n",
    "stock.dtypes"
   ]
  },
  {
   "cell_type": "code",
   "execution_count": 38,
   "id": "86ece312-c11d-4b0e-8fee-cebd69ead079",
   "metadata": {},
   "outputs": [
    {
     "data": {
      "text/html": [
       "<div>\n",
       "<style scoped>\n",
       "    .dataframe tbody tr th:only-of-type {\n",
       "        vertical-align: middle;\n",
       "    }\n",
       "\n",
       "    .dataframe tbody tr th {\n",
       "        vertical-align: top;\n",
       "    }\n",
       "\n",
       "    .dataframe thead th {\n",
       "        text-align: right;\n",
       "    }\n",
       "</style>\n",
       "<table border=\"1\" class=\"dataframe\">\n",
       "  <thead>\n",
       "    <tr style=\"text-align: right;\">\n",
       "      <th></th>\n",
       "      <th>SKU</th>\n",
       "      <th>COGS</th>\n",
       "    </tr>\n",
       "  </thead>\n",
       "  <tbody>\n",
       "    <tr>\n",
       "      <th>0</th>\n",
       "      <td>00c8b2e7-dd9a-4694-ac40-4f31037616b9</td>\n",
       "      <td>213333.333333</td>\n",
       "    </tr>\n",
       "    <tr>\n",
       "      <th>1</th>\n",
       "      <td>a0a9e370-3be0-4024-8687-e821f4e49001</td>\n",
       "      <td>116166.666667</td>\n",
       "    </tr>\n",
       "    <tr>\n",
       "      <th>2</th>\n",
       "      <td>88dbce98-7f8b-4751-ba5b-7c6ce263ffa6</td>\n",
       "      <td>88833.333333</td>\n",
       "    </tr>\n",
       "  </tbody>\n",
       "</table>\n",
       "</div>"
      ],
      "text/plain": [
       "                                    SKU           COGS\n",
       "0  00c8b2e7-dd9a-4694-ac40-4f31037616b9  213333.333333\n",
       "1  a0a9e370-3be0-4024-8687-e821f4e49001  116166.666667\n",
       "2  88dbce98-7f8b-4751-ba5b-7c6ce263ffa6   88833.333333"
      ]
     },
     "execution_count": 38,
     "metadata": {},
     "output_type": "execute_result"
    }
   ],
   "source": [
    "# COGS data loading\n",
    "file_path = \"C:\\\\Python repositories\\\\Education project\\\\src\\\\data\\\\input\\\\COGS.xlsx\"\n",
    "\n",
    "cogs = pd.read_excel(file_path)\n",
    "cogs[:3]"
   ]
  },
  {
   "cell_type": "code",
   "execution_count": 39,
   "id": "e1e609ef-0ce0-487f-ba2e-8ddc5b3a834d",
   "metadata": {},
   "outputs": [
    {
     "data": {
      "text/plain": [
       "SKU      object\n",
       "COGS    float64\n",
       "dtype: object"
      ]
     },
     "execution_count": 39,
     "metadata": {},
     "output_type": "execute_result"
    }
   ],
   "source": [
    "# Check types of columns\n",
    "cogs.dtypes"
   ]
  },
  {
   "cell_type": "markdown",
   "id": "a2a82ed7-395b-4eb4-b933-19e33fe1332e",
   "metadata": {},
   "source": [
    "#### Reading data from text file CSV Comma-Separated Values"
   ]
  },
  {
   "cell_type": "code",
   "execution_count": 58,
   "id": "0b8ab99a-f2e3-4b1d-84a0-1e2541cb200d",
   "metadata": {},
   "outputs": [
    {
     "data": {
      "text/html": [
       "<div>\n",
       "<style scoped>\n",
       "    .dataframe tbody tr th:only-of-type {\n",
       "        vertical-align: middle;\n",
       "    }\n",
       "\n",
       "    .dataframe tbody tr th {\n",
       "        vertical-align: top;\n",
       "    }\n",
       "\n",
       "    .dataframe thead th {\n",
       "        text-align: right;\n",
       "    }\n",
       "</style>\n",
       "<table border=\"1\" class=\"dataframe\">\n",
       "  <thead>\n",
       "    <tr style=\"text-align: right;\">\n",
       "      <th></th>\n",
       "      <th>Period</th>\n",
       "      <th>Stock</th>\n",
       "      <th>SKU</th>\n",
       "    </tr>\n",
       "  </thead>\n",
       "  <tbody>\n",
       "    <tr>\n",
       "      <th>0</th>\n",
       "      <td>2023-01</td>\n",
       "      <td>7578</td>\n",
       "      <td>cc490ca8-11e3-4608-95d9-5e90c3deee5f</td>\n",
       "    </tr>\n",
       "    <tr>\n",
       "      <th>1</th>\n",
       "      <td>2023-01</td>\n",
       "      <td>3220</td>\n",
       "      <td>1b96daf4-989f-49b8-a1bd-a6f4bcdc45df</td>\n",
       "    </tr>\n",
       "    <tr>\n",
       "      <th>2</th>\n",
       "      <td>2023-01</td>\n",
       "      <td>5080</td>\n",
       "      <td>c09205b9-eb96-4ab5-ad76-fcb361730011</td>\n",
       "    </tr>\n",
       "  </tbody>\n",
       "</table>\n",
       "</div>"
      ],
      "text/plain": [
       "    Period Stock                                   SKU\n",
       "0  2023-01  7578  cc490ca8-11e3-4608-95d9-5e90c3deee5f\n",
       "1  2023-01  3220  1b96daf4-989f-49b8-a1bd-a6f4bcdc45df\n",
       "2  2023-01  5080  c09205b9-eb96-4ab5-ad76-fcb361730011"
      ]
     },
     "execution_count": 58,
     "metadata": {},
     "output_type": "execute_result"
    }
   ],
   "source": [
    "# Stock data loading\n",
    "file_path = \"C:\\\\Python repositories\\\\Education project\\\\src\\\\data\\\\input\\\\Stock.csv\"\n",
    "\n",
    "stock = pd.read_csv(file_path, sep=';')\n",
    "stock[:3]"
   ]
  },
  {
   "cell_type": "code",
   "execution_count": 59,
   "id": "81e72d2b-d957-4f01-af9d-fd613da75aad",
   "metadata": {},
   "outputs": [
    {
     "data": {
      "text/plain": [
       "Period    object\n",
       "Stock     object\n",
       "SKU       object\n",
       "dtype: object"
      ]
     },
     "execution_count": 59,
     "metadata": {},
     "output_type": "execute_result"
    }
   ],
   "source": [
    "# Check types of columns\n",
    "stock.dtypes"
   ]
  },
  {
   "cell_type": "code",
   "execution_count": 60,
   "id": "746c3d48-1c9c-4437-b739-01616fbcfaf4",
   "metadata": {},
   "outputs": [
    {
     "data": {
      "text/html": [
       "<div>\n",
       "<style scoped>\n",
       "    .dataframe tbody tr th:only-of-type {\n",
       "        vertical-align: middle;\n",
       "    }\n",
       "\n",
       "    .dataframe tbody tr th {\n",
       "        vertical-align: top;\n",
       "    }\n",
       "\n",
       "    .dataframe thead th {\n",
       "        text-align: right;\n",
       "    }\n",
       "</style>\n",
       "<table border=\"1\" class=\"dataframe\">\n",
       "  <thead>\n",
       "    <tr style=\"text-align: right;\">\n",
       "      <th></th>\n",
       "      <th>SKU</th>\n",
       "      <th>COGS</th>\n",
       "    </tr>\n",
       "  </thead>\n",
       "  <tbody>\n",
       "    <tr>\n",
       "      <th>0</th>\n",
       "      <td>00c8b2e7-dd9a-4694-ac40-4f31037616b9</td>\n",
       "      <td>213333,3333</td>\n",
       "    </tr>\n",
       "    <tr>\n",
       "      <th>1</th>\n",
       "      <td>a0a9e370-3be0-4024-8687-e821f4e49001</td>\n",
       "      <td>116166,6667</td>\n",
       "    </tr>\n",
       "    <tr>\n",
       "      <th>2</th>\n",
       "      <td>88dbce98-7f8b-4751-ba5b-7c6ce263ffa6</td>\n",
       "      <td>88833,33333</td>\n",
       "    </tr>\n",
       "  </tbody>\n",
       "</table>\n",
       "</div>"
      ],
      "text/plain": [
       "                                    SKU         COGS\n",
       "0  00c8b2e7-dd9a-4694-ac40-4f31037616b9  213333,3333\n",
       "1  a0a9e370-3be0-4024-8687-e821f4e49001  116166,6667\n",
       "2  88dbce98-7f8b-4751-ba5b-7c6ce263ffa6  88833,33333"
      ]
     },
     "execution_count": 60,
     "metadata": {},
     "output_type": "execute_result"
    }
   ],
   "source": [
    "file_path = \"C:\\\\Python repositories\\\\Education project\\\\src\\\\data\\\\input\\\\COGS.csv\"\n",
    "\n",
    "cogs = pd.read_csv(file_path, sep=';')\n",
    "cogs[:3]"
   ]
  },
  {
   "cell_type": "code",
   "execution_count": 61,
   "id": "8b354e64-262b-47f6-89af-627053f419e4",
   "metadata": {},
   "outputs": [
    {
     "data": {
      "text/plain": [
       "SKU     object\n",
       "COGS    object\n",
       "dtype: object"
      ]
     },
     "execution_count": 61,
     "metadata": {},
     "output_type": "execute_result"
    }
   ],
   "source": [
    "# Check types of columns\n",
    "cogs.dtypes"
   ]
  },
  {
   "cell_type": "markdown",
   "id": "05ecfdaf-8fe6-4188-8a81-6d1462025a11",
   "metadata": {},
   "source": [
    "#### Change types to numeric (float)"
   ]
  },
  {
   "cell_type": "code",
   "execution_count": 62,
   "id": "8be893d0-e5f4-41de-b868-faf447457dad",
   "metadata": {},
   "outputs": [
    {
     "data": {
      "text/plain": [
       "Period     object\n",
       "Stock     float64\n",
       "SKU        object\n",
       "dtype: object"
      ]
     },
     "execution_count": 62,
     "metadata": {},
     "output_type": "execute_result"
    }
   ],
   "source": [
    "# Change type to numeric\n",
    "# Replace comma with dot and convert to float\n",
    "stock['Stock'] = stock['Stock'].str.replace(',', '.').astype(float)\n",
    "# Check\n",
    "stock.dtypes"
   ]
  },
  {
   "cell_type": "code",
   "execution_count": 63,
   "id": "bfded54f-10d9-4f66-aef1-84b855e31d59",
   "metadata": {},
   "outputs": [
    {
     "data": {
      "text/plain": [
       "SKU      object\n",
       "COGS    float64\n",
       "dtype: object"
      ]
     },
     "execution_count": 63,
     "metadata": {},
     "output_type": "execute_result"
    }
   ],
   "source": [
    "# Change type to numeric\n",
    "# Replace comma with dot and convert to float\n",
    "cogs['COGS'] = cogs['COGS'].str.replace(',', '.').astype(float)\n",
    "# Check\n",
    "cogs.dtypes"
   ]
  },
  {
   "cell_type": "code",
   "execution_count": 65,
   "id": "63bb7582-5a83-4b6f-9055-133d730ff7f5",
   "metadata": {},
   "outputs": [
    {
     "data": {
      "text/html": [
       "<div>\n",
       "<style scoped>\n",
       "    .dataframe tbody tr th:only-of-type {\n",
       "        vertical-align: middle;\n",
       "    }\n",
       "\n",
       "    .dataframe tbody tr th {\n",
       "        vertical-align: top;\n",
       "    }\n",
       "\n",
       "    .dataframe thead th {\n",
       "        text-align: right;\n",
       "    }\n",
       "</style>\n",
       "<table border=\"1\" class=\"dataframe\">\n",
       "  <thead>\n",
       "    <tr style=\"text-align: right;\">\n",
       "      <th></th>\n",
       "      <th>Period</th>\n",
       "      <th>Stock</th>\n",
       "      <th>SKU</th>\n",
       "    </tr>\n",
       "  </thead>\n",
       "  <tbody>\n",
       "    <tr>\n",
       "      <th>0</th>\n",
       "      <td>2023-01</td>\n",
       "      <td>7578.0</td>\n",
       "      <td>cc490ca8-11e3-4608-95d9-5e90c3deee5f</td>\n",
       "    </tr>\n",
       "    <tr>\n",
       "      <th>1</th>\n",
       "      <td>2023-01</td>\n",
       "      <td>3220.0</td>\n",
       "      <td>1b96daf4-989f-49b8-a1bd-a6f4bcdc45df</td>\n",
       "    </tr>\n",
       "    <tr>\n",
       "      <th>2</th>\n",
       "      <td>2023-01</td>\n",
       "      <td>5080.0</td>\n",
       "      <td>c09205b9-eb96-4ab5-ad76-fcb361730011</td>\n",
       "    </tr>\n",
       "  </tbody>\n",
       "</table>\n",
       "</div>"
      ],
      "text/plain": [
       "    Period   Stock                                   SKU\n",
       "0  2023-01  7578.0  cc490ca8-11e3-4608-95d9-5e90c3deee5f\n",
       "1  2023-01  3220.0  1b96daf4-989f-49b8-a1bd-a6f4bcdc45df\n",
       "2  2023-01  5080.0  c09205b9-eb96-4ab5-ad76-fcb361730011"
      ]
     },
     "execution_count": 65,
     "metadata": {},
     "output_type": "execute_result"
    }
   ],
   "source": [
    "stock[:3]"
   ]
  },
  {
   "cell_type": "code",
   "execution_count": 64,
   "id": "e4c00598-6c47-41d4-b9ac-9ddc555886e5",
   "metadata": {},
   "outputs": [
    {
     "data": {
      "text/html": [
       "<div>\n",
       "<style scoped>\n",
       "    .dataframe tbody tr th:only-of-type {\n",
       "        vertical-align: middle;\n",
       "    }\n",
       "\n",
       "    .dataframe tbody tr th {\n",
       "        vertical-align: top;\n",
       "    }\n",
       "\n",
       "    .dataframe thead th {\n",
       "        text-align: right;\n",
       "    }\n",
       "</style>\n",
       "<table border=\"1\" class=\"dataframe\">\n",
       "  <thead>\n",
       "    <tr style=\"text-align: right;\">\n",
       "      <th></th>\n",
       "      <th>SKU</th>\n",
       "      <th>COGS</th>\n",
       "    </tr>\n",
       "  </thead>\n",
       "  <tbody>\n",
       "    <tr>\n",
       "      <th>0</th>\n",
       "      <td>00c8b2e7-dd9a-4694-ac40-4f31037616b9</td>\n",
       "      <td>213333.33330</td>\n",
       "    </tr>\n",
       "    <tr>\n",
       "      <th>1</th>\n",
       "      <td>a0a9e370-3be0-4024-8687-e821f4e49001</td>\n",
       "      <td>116166.66670</td>\n",
       "    </tr>\n",
       "    <tr>\n",
       "      <th>2</th>\n",
       "      <td>88dbce98-7f8b-4751-ba5b-7c6ce263ffa6</td>\n",
       "      <td>88833.33333</td>\n",
       "    </tr>\n",
       "  </tbody>\n",
       "</table>\n",
       "</div>"
      ],
      "text/plain": [
       "                                    SKU          COGS\n",
       "0  00c8b2e7-dd9a-4694-ac40-4f31037616b9  213333.33330\n",
       "1  a0a9e370-3be0-4024-8687-e821f4e49001  116166.66670\n",
       "2  88dbce98-7f8b-4751-ba5b-7c6ce263ffa6   88833.33333"
      ]
     },
     "execution_count": 64,
     "metadata": {},
     "output_type": "execute_result"
    }
   ],
   "source": [
    "cogs[:3]"
   ]
  },
  {
   "cell_type": "code",
   "execution_count": 66,
   "id": "31a2e79a-1a74-465a-b9cb-796b5a08aae4",
   "metadata": {},
   "outputs": [
    {
     "data": {
      "text/html": [
       "<div>\n",
       "<style scoped>\n",
       "    .dataframe tbody tr th:only-of-type {\n",
       "        vertical-align: middle;\n",
       "    }\n",
       "\n",
       "    .dataframe tbody tr th {\n",
       "        vertical-align: top;\n",
       "    }\n",
       "\n",
       "    .dataframe thead th {\n",
       "        text-align: right;\n",
       "    }\n",
       "</style>\n",
       "<table border=\"1\" class=\"dataframe\">\n",
       "  <thead>\n",
       "    <tr style=\"text-align: right;\">\n",
       "      <th></th>\n",
       "      <th>Period</th>\n",
       "      <th>Stock</th>\n",
       "      <th>SKU</th>\n",
       "      <th>COGS</th>\n",
       "    </tr>\n",
       "  </thead>\n",
       "  <tbody>\n",
       "    <tr>\n",
       "      <th>0</th>\n",
       "      <td>2023-01</td>\n",
       "      <td>7578.0</td>\n",
       "      <td>cc490ca8-11e3-4608-95d9-5e90c3deee5f</td>\n",
       "      <td>1.709044</td>\n",
       "    </tr>\n",
       "    <tr>\n",
       "      <th>1</th>\n",
       "      <td>2023-01</td>\n",
       "      <td>3220.0</td>\n",
       "      <td>1b96daf4-989f-49b8-a1bd-a6f4bcdc45df</td>\n",
       "      <td>1.099464</td>\n",
       "    </tr>\n",
       "    <tr>\n",
       "      <th>2</th>\n",
       "      <td>2023-01</td>\n",
       "      <td>5080.0</td>\n",
       "      <td>c09205b9-eb96-4ab5-ad76-fcb361730011</td>\n",
       "      <td>0.774811</td>\n",
       "    </tr>\n",
       "  </tbody>\n",
       "</table>\n",
       "</div>"
      ],
      "text/plain": [
       "    Period   Stock                                   SKU      COGS\n",
       "0  2023-01  7578.0  cc490ca8-11e3-4608-95d9-5e90c3deee5f  1.709044\n",
       "1  2023-01  3220.0  1b96daf4-989f-49b8-a1bd-a6f4bcdc45df  1.099464\n",
       "2  2023-01  5080.0  c09205b9-eb96-4ab5-ad76-fcb361730011  0.774811"
      ]
     },
     "execution_count": 66,
     "metadata": {},
     "output_type": "execute_result"
    }
   ],
   "source": [
    "# Vlookup COGS column to Stock table\n",
    "stock_cogs = pd.merge(stock, cogs, how='left', on='SKU')\n",
    "stock_cogs[:3]"
   ]
  },
  {
   "cell_type": "code",
   "execution_count": 67,
   "id": "b51a4e2c-13f2-4f0e-ad74-63c260042831",
   "metadata": {},
   "outputs": [
    {
     "data": {
      "text/html": [
       "<div>\n",
       "<style scoped>\n",
       "    .dataframe tbody tr th:only-of-type {\n",
       "        vertical-align: middle;\n",
       "    }\n",
       "\n",
       "    .dataframe tbody tr th {\n",
       "        vertical-align: top;\n",
       "    }\n",
       "\n",
       "    .dataframe thead th {\n",
       "        text-align: right;\n",
       "    }\n",
       "</style>\n",
       "<table border=\"1\" class=\"dataframe\">\n",
       "  <thead>\n",
       "    <tr style=\"text-align: right;\">\n",
       "      <th></th>\n",
       "      <th>Period</th>\n",
       "      <th>Stock</th>\n",
       "      <th>SKU</th>\n",
       "      <th>COGS</th>\n",
       "      <th>Value</th>\n",
       "    </tr>\n",
       "  </thead>\n",
       "  <tbody>\n",
       "    <tr>\n",
       "      <th>0</th>\n",
       "      <td>2023-01</td>\n",
       "      <td>7578.0</td>\n",
       "      <td>cc490ca8-11e3-4608-95d9-5e90c3deee5f</td>\n",
       "      <td>1.709044</td>\n",
       "      <td>12951.135258</td>\n",
       "    </tr>\n",
       "    <tr>\n",
       "      <th>1</th>\n",
       "      <td>2023-01</td>\n",
       "      <td>3220.0</td>\n",
       "      <td>1b96daf4-989f-49b8-a1bd-a6f4bcdc45df</td>\n",
       "      <td>1.099464</td>\n",
       "      <td>3540.274508</td>\n",
       "    </tr>\n",
       "    <tr>\n",
       "      <th>2</th>\n",
       "      <td>2023-01</td>\n",
       "      <td>5080.0</td>\n",
       "      <td>c09205b9-eb96-4ab5-ad76-fcb361730011</td>\n",
       "      <td>0.774811</td>\n",
       "      <td>3936.041180</td>\n",
       "    </tr>\n",
       "  </tbody>\n",
       "</table>\n",
       "</div>"
      ],
      "text/plain": [
       "    Period   Stock                                   SKU      COGS  \\\n",
       "0  2023-01  7578.0  cc490ca8-11e3-4608-95d9-5e90c3deee5f  1.709044   \n",
       "1  2023-01  3220.0  1b96daf4-989f-49b8-a1bd-a6f4bcdc45df  1.099464   \n",
       "2  2023-01  5080.0  c09205b9-eb96-4ab5-ad76-fcb361730011  0.774811   \n",
       "\n",
       "          Value  \n",
       "0  12951.135258  \n",
       "1   3540.274508  \n",
       "2   3936.041180  "
      ]
     },
     "execution_count": 67,
     "metadata": {},
     "output_type": "execute_result"
    }
   ],
   "source": [
    "# New Stock Value column creation\n",
    "stock_cogs['Value'] = stock_cogs['Stock']*stock_cogs['COGS']\n",
    "stock_cogs[:3]"
   ]
  },
  {
   "cell_type": "code",
   "execution_count": 68,
   "id": "b1829c25-f2cd-413d-a1bc-7cfbf3fa3b4f",
   "metadata": {},
   "outputs": [
    {
     "data": {
      "text/html": [
       "<div>\n",
       "<style scoped>\n",
       "    .dataframe tbody tr th:only-of-type {\n",
       "        vertical-align: middle;\n",
       "    }\n",
       "\n",
       "    .dataframe tbody tr th {\n",
       "        vertical-align: top;\n",
       "    }\n",
       "\n",
       "    .dataframe thead th {\n",
       "        text-align: right;\n",
       "    }\n",
       "</style>\n",
       "<table border=\"1\" class=\"dataframe\">\n",
       "  <thead>\n",
       "    <tr style=\"text-align: right;\">\n",
       "      <th></th>\n",
       "      <th>SKU</th>\n",
       "      <th>Period</th>\n",
       "      <th>Value</th>\n",
       "    </tr>\n",
       "  </thead>\n",
       "  <tbody>\n",
       "    <tr>\n",
       "      <th>0</th>\n",
       "      <td>cc490ca8-11e3-4608-95d9-5e90c3deee5f</td>\n",
       "      <td>2023-01</td>\n",
       "      <td>12951.135258</td>\n",
       "    </tr>\n",
       "    <tr>\n",
       "      <th>1</th>\n",
       "      <td>1b96daf4-989f-49b8-a1bd-a6f4bcdc45df</td>\n",
       "      <td>2023-01</td>\n",
       "      <td>3540.274508</td>\n",
       "    </tr>\n",
       "    <tr>\n",
       "      <th>2</th>\n",
       "      <td>c09205b9-eb96-4ab5-ad76-fcb361730011</td>\n",
       "      <td>2023-01</td>\n",
       "      <td>3936.041180</td>\n",
       "    </tr>\n",
       "  </tbody>\n",
       "</table>\n",
       "</div>"
      ],
      "text/plain": [
       "                                    SKU   Period         Value\n",
       "0  cc490ca8-11e3-4608-95d9-5e90c3deee5f  2023-01  12951.135258\n",
       "1  1b96daf4-989f-49b8-a1bd-a6f4bcdc45df  2023-01   3540.274508\n",
       "2  c09205b9-eb96-4ab5-ad76-fcb361730011  2023-01   3936.041180"
      ]
     },
     "execution_count": 68,
     "metadata": {},
     "output_type": "execute_result"
    }
   ],
   "source": [
    "# Choose columns in a specific order\n",
    "required_cols = ['SKU', 'Period', 'Value']\n",
    "abc_input = stock_cogs[required_cols].copy()\n",
    "abc_input[:3]"
   ]
  },
  {
   "cell_type": "code",
   "execution_count": 69,
   "id": "80211864-06c1-49d5-88e0-a26037b493fd",
   "metadata": {},
   "outputs": [],
   "source": [
    "import pandas as pd\n",
    "import numpy as np\n",
    "\n",
    "def assign_abc_groups(df: pd.DataFrame, a_threshold: float = 0.80, b_threshold: float = 0.95) -> pd.DataFrame:\n",
    "    \"\"\"\n",
    "    Assigns ABC classification groups to SKUs per Period based on cumulative value contribution.\n",
    "\n",
    "    Enhancements:\n",
    "    -------------\n",
    "    - Handles cases where total period value is 0 by assigning all SKUs in that period to group 'C'.\n",
    "\n",
    "    Parameters\n",
    "    ----------\n",
    "    df : pd.DataFrame\n",
    "        Input DataFrame with columns ['SKU', 'Period', 'Value'].\n",
    "    a_threshold : float, optional\n",
    "        Cumulative contribution cutoff for class A (default=0.80).\n",
    "    b_threshold : float, optional\n",
    "        Cumulative contribution cutoff for class B (default=0.95).\n",
    "\n",
    "    Returns\n",
    "    -------\n",
    "    pd.DataFrame\n",
    "        DataFrame with columns ['SKU', 'Period', 'Value', 'ABC_Group'].\n",
    "\n",
    "    Raises\n",
    "    ------\n",
    "    ValueError\n",
    "        If required columns are missing.\n",
    "    TypeError\n",
    "        If 'Value' is not numeric.\n",
    "    \"\"\"\n",
    "\n",
    "    # === 1. Input validation ===\n",
    "    required_columns = {'SKU', 'Period', 'Value'}\n",
    "    if not required_columns.issubset(df.columns):\n",
    "        missing = required_columns - set(df.columns)\n",
    "        raise ValueError(f\"Missing required columns: {missing}\")\n",
    "\n",
    "    if not pd.api.types.is_numeric_dtype(df['Value']):\n",
    "        raise TypeError(\"'Value' column must be numeric (float or int).\")\n",
    "\n",
    "    # Fill missing values in Value column\n",
    "    df = df.copy()\n",
    "    df['Value'] = df['Value'].fillna(0.0)\n",
    "\n",
    "    # === 2. Aggregate total values per SKU/Period ===\n",
    "    agg_df = (\n",
    "        df.groupby(['Period', 'SKU'], as_index=False)['Value']\n",
    "        .sum()\n",
    "    )\n",
    "\n",
    "    # === 3. Sort, rank and compute cumulative metrics ===\n",
    "    agg_df = agg_df.sort_values(['Period', 'Value'], ascending=[True, False])\n",
    "\n",
    "    # Compute total value per Period\n",
    "    agg_df['Total_Period_Value'] = agg_df.groupby('Period')['Value'].transform('sum')\n",
    "\n",
    "    # Compute cumulative value per Period\n",
    "    agg_df['Cumulative_Value'] = agg_df.groupby('Period')['Value'].cumsum()\n",
    "\n",
    "    # Handle division safely: if total = 0, set cumulative percent = 1 (forcing C group)\n",
    "    agg_df['Cumulative_Percent'] = np.where(\n",
    "        agg_df['Total_Period_Value'] == 0,\n",
    "        1.0,\n",
    "        agg_df['Cumulative_Value'] / agg_df['Total_Period_Value']\n",
    "    )\n",
    "\n",
    "    # === 4. ABC Group assignment ===\n",
    "    def classify_abc(cum_pct: float, total_val: float) -> str:\n",
    "        \"\"\"\n",
    "        Determine ABC class:\n",
    "        - If total value = 0  → assign 'C'\n",
    "        - Else apply thresholds normally.\n",
    "        \"\"\"\n",
    "        if total_val == 0:\n",
    "            return 'C'\n",
    "        if cum_pct <= a_threshold:\n",
    "            return 'A'\n",
    "        elif cum_pct <= b_threshold:\n",
    "            return 'B'\n",
    "        else:\n",
    "            return 'C'\n",
    "\n",
    "    # Apply classification row-wise\n",
    "    agg_df['ABC_Group'] = agg_df.apply(\n",
    "        lambda x: classify_abc(x['Cumulative_Percent'], x['Total_Period_Value']),\n",
    "        axis=1\n",
    "    )\n",
    "\n",
    "    # === 5. Merge results back into original DataFrame ===\n",
    "    result_df = pd.merge(\n",
    "        df,\n",
    "        agg_df[['Period', 'SKU', 'ABC_Group']],\n",
    "        on=['Period', 'SKU'],\n",
    "        how='left'\n",
    "    )\n",
    "\n",
    "    # === 6. Validation ===\n",
    "    if result_df['ABC_Group'].isna().any():\n",
    "        raise RuntimeError(\"ABC group assignment failed for some rows.\")\n",
    "\n",
    "    return result_df"
   ]
  },
  {
   "cell_type": "code",
   "execution_count": 70,
   "id": "9e559bc4-3d7b-4914-bbac-d568b1d84e7b",
   "metadata": {},
   "outputs": [
    {
     "data": {
      "text/html": [
       "<div>\n",
       "<style scoped>\n",
       "    .dataframe tbody tr th:only-of-type {\n",
       "        vertical-align: middle;\n",
       "    }\n",
       "\n",
       "    .dataframe tbody tr th {\n",
       "        vertical-align: top;\n",
       "    }\n",
       "\n",
       "    .dataframe thead th {\n",
       "        text-align: right;\n",
       "    }\n",
       "</style>\n",
       "<table border=\"1\" class=\"dataframe\">\n",
       "  <thead>\n",
       "    <tr style=\"text-align: right;\">\n",
       "      <th></th>\n",
       "      <th>SKU</th>\n",
       "      <th>Period</th>\n",
       "      <th>Value</th>\n",
       "      <th>ABC_Group</th>\n",
       "    </tr>\n",
       "  </thead>\n",
       "  <tbody>\n",
       "    <tr>\n",
       "      <th>0</th>\n",
       "      <td>cc490ca8-11e3-4608-95d9-5e90c3deee5f</td>\n",
       "      <td>2023-01</td>\n",
       "      <td>12951.135258</td>\n",
       "      <td>C</td>\n",
       "    </tr>\n",
       "    <tr>\n",
       "      <th>1</th>\n",
       "      <td>1b96daf4-989f-49b8-a1bd-a6f4bcdc45df</td>\n",
       "      <td>2023-01</td>\n",
       "      <td>3540.274508</td>\n",
       "      <td>C</td>\n",
       "    </tr>\n",
       "    <tr>\n",
       "      <th>2</th>\n",
       "      <td>c09205b9-eb96-4ab5-ad76-fcb361730011</td>\n",
       "      <td>2023-01</td>\n",
       "      <td>3936.041180</td>\n",
       "      <td>C</td>\n",
       "    </tr>\n",
       "    <tr>\n",
       "      <th>3</th>\n",
       "      <td>227c4431-0b37-42c3-b7f3-3ff6cef530eb</td>\n",
       "      <td>2023-01</td>\n",
       "      <td>10132.834073</td>\n",
       "      <td>C</td>\n",
       "    </tr>\n",
       "    <tr>\n",
       "      <th>4</th>\n",
       "      <td>d0e54b78-96f1-43e6-870d-9ec85bd78127</td>\n",
       "      <td>2023-01</td>\n",
       "      <td>7166.968015</td>\n",
       "      <td>C</td>\n",
       "    </tr>\n",
       "    <tr>\n",
       "      <th>5</th>\n",
       "      <td>95d576b4-a611-48c5-8859-3e11e57125fa</td>\n",
       "      <td>2023-01</td>\n",
       "      <td>1049.590525</td>\n",
       "      <td>C</td>\n",
       "    </tr>\n",
       "    <tr>\n",
       "      <th>6</th>\n",
       "      <td>5933cf12-cd9f-4ba6-ae81-306a333ffc61</td>\n",
       "      <td>2023-01</td>\n",
       "      <td>36325.061540</td>\n",
       "      <td>B</td>\n",
       "    </tr>\n",
       "    <tr>\n",
       "      <th>7</th>\n",
       "      <td>23c901ad-bfa4-446e-a088-b27fa2749942</td>\n",
       "      <td>2023-01</td>\n",
       "      <td>33860.791737</td>\n",
       "      <td>B</td>\n",
       "    </tr>\n",
       "    <tr>\n",
       "      <th>8</th>\n",
       "      <td>22bd6d57-97bf-4a2e-9887-8b2882f02143</td>\n",
       "      <td>2023-01</td>\n",
       "      <td>17940.539285</td>\n",
       "      <td>C</td>\n",
       "    </tr>\n",
       "    <tr>\n",
       "      <th>9</th>\n",
       "      <td>2d6fe02d-042a-416a-a255-90fce7da4639</td>\n",
       "      <td>2023-01</td>\n",
       "      <td>17685.290207</td>\n",
       "      <td>C</td>\n",
       "    </tr>\n",
       "    <tr>\n",
       "      <th>10</th>\n",
       "      <td>432a4342-0a55-4de6-9f8b-00dd0374c2d8</td>\n",
       "      <td>2023-01</td>\n",
       "      <td>10626.594121</td>\n",
       "      <td>C</td>\n",
       "    </tr>\n",
       "    <tr>\n",
       "      <th>11</th>\n",
       "      <td>7a0f0e7e-7a99-4085-9c5c-d67add24dd9f</td>\n",
       "      <td>2023-01</td>\n",
       "      <td>4790.058630</td>\n",
       "      <td>C</td>\n",
       "    </tr>\n",
       "    <tr>\n",
       "      <th>12</th>\n",
       "      <td>f8484c54-d6d5-46f1-b515-490b3afd2795</td>\n",
       "      <td>2023-01</td>\n",
       "      <td>20791.232084</td>\n",
       "      <td>C</td>\n",
       "    </tr>\n",
       "    <tr>\n",
       "      <th>13</th>\n",
       "      <td>ff71cdbd-2f77-4592-af67-47bb6db7048a</td>\n",
       "      <td>2023-01</td>\n",
       "      <td>804.837845</td>\n",
       "      <td>C</td>\n",
       "    </tr>\n",
       "    <tr>\n",
       "      <th>14</th>\n",
       "      <td>bfda2d6b-45d0-437c-a845-02c593dbe139</td>\n",
       "      <td>2023-01</td>\n",
       "      <td>4675.082282</td>\n",
       "      <td>C</td>\n",
       "    </tr>\n",
       "  </tbody>\n",
       "</table>\n",
       "</div>"
      ],
      "text/plain": [
       "                                     SKU   Period         Value ABC_Group\n",
       "0   cc490ca8-11e3-4608-95d9-5e90c3deee5f  2023-01  12951.135258         C\n",
       "1   1b96daf4-989f-49b8-a1bd-a6f4bcdc45df  2023-01   3540.274508         C\n",
       "2   c09205b9-eb96-4ab5-ad76-fcb361730011  2023-01   3936.041180         C\n",
       "3   227c4431-0b37-42c3-b7f3-3ff6cef530eb  2023-01  10132.834073         C\n",
       "4   d0e54b78-96f1-43e6-870d-9ec85bd78127  2023-01   7166.968015         C\n",
       "5   95d576b4-a611-48c5-8859-3e11e57125fa  2023-01   1049.590525         C\n",
       "6   5933cf12-cd9f-4ba6-ae81-306a333ffc61  2023-01  36325.061540         B\n",
       "7   23c901ad-bfa4-446e-a088-b27fa2749942  2023-01  33860.791737         B\n",
       "8   22bd6d57-97bf-4a2e-9887-8b2882f02143  2023-01  17940.539285         C\n",
       "9   2d6fe02d-042a-416a-a255-90fce7da4639  2023-01  17685.290207         C\n",
       "10  432a4342-0a55-4de6-9f8b-00dd0374c2d8  2023-01  10626.594121         C\n",
       "11  7a0f0e7e-7a99-4085-9c5c-d67add24dd9f  2023-01   4790.058630         C\n",
       "12  f8484c54-d6d5-46f1-b515-490b3afd2795  2023-01  20791.232084         C\n",
       "13  ff71cdbd-2f77-4592-af67-47bb6db7048a  2023-01    804.837845         C\n",
       "14  bfda2d6b-45d0-437c-a845-02c593dbe139  2023-01   4675.082282         C"
      ]
     },
     "execution_count": 70,
     "metadata": {},
     "output_type": "execute_result"
    }
   ],
   "source": [
    "# ABC classification operation\n",
    "df_result = assign_abc_groups(abc_input)\n",
    "df_result[:15]"
   ]
  },
  {
   "cell_type": "code",
   "execution_count": 71,
   "id": "8458acb8-cb8a-4382-b430-247113273bc6",
   "metadata": {},
   "outputs": [],
   "source": [
    "import os\n",
    "# Saving in the same folder as the Python (py or ipynb) file using one of two popular Excel libraries\n",
    "def save_file(data: pd.DataFrame, name: str) -> None:\n",
    "    \"\"\"\n",
    "    Saves a DataFrame to an Excel file using the preferred engine.\n",
    "    Falls back to openpyxl if xlsxwriter is unavailable.\n",
    "    \"\"\"\n",
    "    dump_file_name = f\"{name}.xlsx\"\n",
    "    data_dump = os.path.join(os.getcwd(), dump_file_name)\n",
    "\n",
    "    try:\n",
    "        # Try xlsxwriter first (faster, supports formatting)\n",
    "        writer = pd.ExcelWriter(data_dump, engine=\"xlsxwriter\")\n",
    "    except ModuleNotFoundError:\n",
    "        print(\"⚠️  xlsxwriter not found. Falling back to openpyxl.\")\n",
    "        writer = pd.ExcelWriter(data_dump, engine=\"openpyxl\")\n",
    "\n",
    "    # Write to Excel\n",
    "    data.to_excel(writer, sheet_name=name, index=False)\n",
    "\n",
    "    # Save and close the writer properly\n",
    "    writer.close()\n",
    "    print(f\"✅ Data successfully saved as: {dump_file_name}\")"
   ]
  },
  {
   "cell_type": "code",
   "execution_count": 72,
   "id": "90d9e1fe-3567-4555-b837-35b8f1f3a9b3",
   "metadata": {},
   "outputs": [
    {
     "name": "stdout",
     "output_type": "stream",
     "text": [
      "⚠️  xlsxwriter not found. Falling back to openpyxl.\n",
      "✅ Data successfully saved as: abc.xlsx\n"
     ]
    }
   ],
   "source": [
    "# Save output file\n",
    "save_file(df_result, \"abc\")"
   ]
  },
  {
   "cell_type": "code",
   "execution_count": null,
   "id": "9e811b85-5ab9-4bbf-880e-c4e7185188fc",
   "metadata": {},
   "outputs": [],
   "source": []
  }
 ],
 "metadata": {
  "kernelspec": {
   "display_name": "Python 3 (ipykernel)",
   "language": "python",
   "name": "python3"
  },
  "language_info": {
   "codemirror_mode": {
    "name": "ipython",
    "version": 3
   },
   "file_extension": ".py",
   "mimetype": "text/x-python",
   "name": "python",
   "nbconvert_exporter": "python",
   "pygments_lexer": "ipython3",
   "version": "3.11.3"
  }
 },
 "nbformat": 4,
 "nbformat_minor": 5
}
